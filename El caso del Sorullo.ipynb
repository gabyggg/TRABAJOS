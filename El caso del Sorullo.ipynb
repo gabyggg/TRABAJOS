{
 "cells": [
  {
   "cell_type": "markdown",
   "metadata": {},
   "source": [
    "# El caso del Sorullo"
   ]
  },
  {
   "cell_type": "markdown",
   "metadata": {},
   "source": [
    "## Datos Reales"
   ]
  },
  {
   "cell_type": "markdown",
   "metadata": {},
   "source": [
    "1.- La duración del embarazo se distribuye normalmente"
   ]
  },
  {
   "cell_type": "markdown",
   "metadata": {},
   "source": [
    "2.- La media son 268 días."
   ]
  },
  {
   "cell_type": "markdown",
   "metadata": {},
   "source": [
    "3.- La desviación estandar es de 15 días."
   ]
  },
  {
   "cell_type": "markdown",
   "metadata": {},
   "source": [
    "4.- Simulemos 3000 embarazos."
   ]
  },
  {
   "cell_type": "code",
   "execution_count": 1,
   "metadata": {},
   "outputs": [
    {
     "data": {
      "text/plain": [
       "   Min. 1st Qu.  Median    Mean 3rd Qu.    Max. \n",
       "  219.3   257.7   268.0   267.9   278.0   321.0 "
      ]
     },
     "metadata": {},
     "output_type": "display_data"
    }
   ],
   "source": [
    "set.seed(214)\n",
    "sim <-rnorm(3000,268,15)\n",
    "summary(sim)"
   ]
  },
  {
   "cell_type": "code",
   "execution_count": 2,
   "metadata": {},
   "outputs": [
    {
     "data": {
      "text/html": [
       "14.8674700708138"
      ],
      "text/latex": [
       "14.8674700708138"
      ],
      "text/markdown": [
       "14.8674700708138"
      ],
      "text/plain": [
       "[1] 14.86747"
      ]
     },
     "metadata": {},
     "output_type": "display_data"
    }
   ],
   "source": [
    "sd(sim)"
   ]
  },
  {
   "cell_type": "code",
   "execution_count": 3,
   "metadata": {},
   "outputs": [
    {
     "data": {
      "image/png": "[encoded data removed]",
      "text/plain": [
       "Plot with title \"simulación 3000 embarazos\""
      ]
     },
     "metadata": {},
     "output_type": "display_data"
    }
   ],
   "source": [
    "options(repr.plot.width=6,repr.plot.height=6/1.61803)\n",
    "hist(sim,main=\"simulación 3000 embarazos\")"
   ]
  },
  {
   "cell_type": "markdown",
   "metadata": {},
   "source": [
    "# La misma gráfica con opciones de color de proporcionalidad y titulos en los ejes."
   ]
  },
  {
   "cell_type": "code",
   "execution_count": 4,
   "metadata": {},
   "outputs": [
    {
     "data": {
      "image/png": "[encoded data removed]",
      "text/plain": [
       "Plot with title \"Simulación 3000 embarazos\""
      ]
     },
     "metadata": {},
     "output_type": "display_data"
    }
   ],
   "source": [
    "options(repr.plot.width=6,repr.plot.height=6/1.61803)\n",
    "hist(sim,main=\"Simulación 3000 embarazos\", ylab=\"FRECUENCIA\", xlab=\"DÍAS\", ylim=c(0,850),labels=T,col=\"blue\", border=\"pink\")"
   ]
  },
  {
   "cell_type": "code",
   "execution_count": 5,
   "metadata": {},
   "outputs": [
    {
     "data": {
      "image/png": "[encoded data removed]",
      "text/plain": [
       "Plot with title \"Simulación 3000 embarazos\""
      ]
     },
     "metadata": {},
     "output_type": "display_data"
    }
   ],
   "source": [
    "options(repr.plot.width=6,repr.plot.height=6/1.61803)\n",
    "hist(sim,main=\"Simulación 3000 embarazos\", ylab=\"FRECUENCIA\", xlab=\"DÍAS\", ylim=c(0,850),labels=T,col=\"pink\", border=\"blue\")"
   ]
  },
  {
   "cell_type": "markdown",
   "metadata": {},
   "source": [
    "## Dando le  formato  al histograma. "
   ]
  },
  {
   "cell_type": "markdown",
   "metadata": {},
   "source": [
    "Amado gordito antes de partir a tu largo viaje en barco me ambarazaste y felizmente eres papá a 30 días de es bello día"
   ]
  },
  {
   "cell_type": "markdown",
   "metadata": {},
   "source": [
    "# Rango de significancia"
   ]
  },
  {
   "cell_type": "markdown",
   "metadata": {},
   "source": [
    "$$ \\mu = 268 $$"
   ]
  },
  {
   "cell_type": "markdown",
   "metadata": {},
   "source": [
    "$$\\sigma = 15 $$"
   ]
  },
  {
   "cell_type": "markdown",
   "metadata": {},
   "source": [
    "$$ rango = \\mu \\ +- 2\\sigma$$"
   ]
  },
  {
   "cell_type": "code",
   "execution_count": 7,
   "metadata": {},
   "outputs": [
    {
     "data": {
      "text/html": [
       "298"
      ],
      "text/latex": [
       "298"
      ],
      "text/markdown": [
       "298"
      ],
      "text/plain": [
       "[1] 298"
      ]
     },
     "metadata": {},
     "output_type": "display_data"
    }
   ],
   "source": [
    "268 +2*15"
   ]
  },
  {
   "cell_type": "code",
   "execution_count": 8,
   "metadata": {},
   "outputs": [
    {
     "data": {
      "text/html": [
       "238"
      ],
      "text/latex": [
       "238"
      ],
      "text/markdown": [
       "238"
      ],
      "text/plain": [
       "[1] 238"
      ]
     },
     "metadata": {},
     "output_type": "display_data"
    }
   ],
   "source": [
    "268-2*15"
   ]
  },
  {
   "cell_type": "markdown",
   "metadata": {},
   "source": [
    "# Rango de Significancia"
   ]
  },
  {
   "cell_type": "markdown",
   "metadata": {},
   "source": [
    "Como 308 es mayor que 298, la probabilidad de que sea tuyo es muy baja por lo tanto es Sorullo.\n"
   ]
  },
  {
   "cell_type": "markdown",
   "metadata": {},
   "source": [
    "## Los niños prematuros"
   ]
  },
  {
   "cell_type": "markdown",
   "metadata": {},
   "source": [
    "Con los mismos datos averiguamos a partir de cuantos días se considera un niño prematuro, si el articulo solo menciona que es el 3% inferior de esa distribución"
   ]
  },
  {
   "cell_type": "markdown",
   "metadata": {},
   "source": [
    "?qnorm"
   ]
  },
  {
   "cell_type": "code",
   "execution_count": 9,
   "metadata": {},
   "outputs": [
    {
     "data": {
      "text/html": [
       "239.788095877731"
      ],
      "text/latex": [
       "239.788095877731"
      ],
      "text/markdown": [
       "239.788095877731"
      ],
      "text/plain": [
       "[1] 239.7881"
      ]
     },
     "metadata": {},
     "output_type": "display_data"
    }
   ],
   "source": [
    "qnorm(0.03,268,15)"
   ]
  },
  {
   "cell_type": "code",
   "execution_count": 10,
   "metadata": {},
   "outputs": [
    {
     "data": {
      "text/html": [
       "240"
      ],
      "text/latex": [
       "240"
      ],
      "text/markdown": [
       "240"
      ],
      "text/plain": [
       "[1] 240"
      ]
     },
     "metadata": {},
     "output_type": "display_data"
    }
   ],
   "source": [
    "round(qnorm(0.03,268,15))"
   ]
  },
  {
   "cell_type": "markdown",
   "metadata": {},
   "source": [
    "# Fin del ejercicio"
   ]
  }
 ],
 "metadata": {
  "kernelspec": {
   "display_name": "R",
   "language": "R",
   "name": "ir"
  },
  "language_info": {
   "codemirror_mode": "r",
   "file_extension": ".r",
   "mimetype": "text/x-r-source",
   "name": "R",
   "pygments_lexer": "r",
   "version": "3.6.1"
  }
 },
 "nbformat": 4,
 "nbformat_minor": 2
}
