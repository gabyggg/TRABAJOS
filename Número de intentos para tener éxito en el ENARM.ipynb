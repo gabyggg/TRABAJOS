{
 "cells": [
  {
   "cell_type": "code",
   "execution_count": 4,
   "metadata": {},
   "outputs": [],
   "source": [
    "Valores <- read.csv (\"enarm_better.csv\")"
   ]
  },
  {
   "cell_type": "code",
   "execution_count": 5,
   "metadata": {},
   "outputs": [
    {
     "data": {
      "text/html": [
       "<table>\n",
       "<thead><tr><th scope=col>ENTIDAD.FEDERATIVA</th><th scope=col>FACULTAD.O.ESCUELA.DE.MEDICINA</th><th scope=col>SUSTENTANTES</th><th scope=col>SELECCIONADOS</th><th scope=col>PROMEDIO.GENERAL</th><th scope=col>AGNO</th></tr></thead>\n",
       "<tbody>\n",
       "\t<tr><td>AGUASCALIENTES                                           </td><td>UNIVERSIDAD AUTONOMA DE AGUASCALIENTES                   </td><td>239                                                      </td><td>84                                                       </td><td>67.52                                                    </td><td>2017                                                     </td></tr>\n",
       "\t<tr><td>AGUASCALIENTES                                           </td><td>UNIVERSIDAD CUAUHTEMOC - PLANTEL AGUASCALIENTES          </td><td> 72                                                      </td><td> 9                                                       </td><td>63.81                                                    </td><td>2017                                                     </td></tr>\n",
       "\t<tr><td>BAJA CALIFORNIA                                          </td><td>CENTRO ESTUDIOS UNIVERSIDAD XOCHICALCO, UNIDAD ENSENADA  </td><td>247                                                      </td><td>48                                                       </td><td>61.16                                                    </td><td>2017                                                     </td></tr>\n",
       "\t<tr><td>BAJA CALIFORNIA                                          </td><td>CENTRO ESTUDIOS UNIVERSIDAD XOCHICALCO, UNIDAD TIJUANA   </td><td>152                                                      </td><td>30                                                       </td><td>62.48                                                    </td><td>2017                                                     </td></tr>\n",
       "\t<tr><td>BAJA CALIFORNIA                                          </td><td>UNIVERSIDAD AUTONOMA DE B.C. - CAMPUS VALLE DE LAS PALMAS</td><td>135                                                      </td><td>16                                                       </td><td>62.70                                                    </td><td>2017                                                     </td></tr>\n",
       "\t<tr><td>BAJA CALIFORNIA                                          </td><td>UNIVERSIDAD AUTONOMA DE B.C., UNIDAD ENSENADA            </td><td>188                                                      </td><td>55                                                       </td><td>64.88                                                    </td><td>2017                                                     </td></tr>\n",
       "</tbody>\n",
       "</table>\n"
      ],
      "text/latex": [
       "\\begin{tabular}{r|llllll}\n",
       " ENTIDAD.FEDERATIVA & FACULTAD.O.ESCUELA.DE.MEDICINA & SUSTENTANTES & SELECCIONADOS & PROMEDIO.GENERAL & AGNO\\\\\n",
       "\\hline\n",
       "\t AGUASCALIENTES                                            & UNIVERSIDAD AUTONOMA DE AGUASCALIENTES                    & 239                                                       & 84                                                        & 67.52                                                     & 2017                                                     \\\\\n",
       "\t AGUASCALIENTES                                            & UNIVERSIDAD CUAUHTEMOC - PLANTEL AGUASCALIENTES           &  72                                                       &  9                                                        & 63.81                                                     & 2017                                                     \\\\\n",
       "\t BAJA CALIFORNIA                                           & CENTRO ESTUDIOS UNIVERSIDAD XOCHICALCO, UNIDAD ENSENADA   & 247                                                       & 48                                                        & 61.16                                                     & 2017                                                     \\\\\n",
       "\t BAJA CALIFORNIA                                           & CENTRO ESTUDIOS UNIVERSIDAD XOCHICALCO, UNIDAD TIJUANA    & 152                                                       & 30                                                        & 62.48                                                     & 2017                                                     \\\\\n",
       "\t BAJA CALIFORNIA                                           & UNIVERSIDAD AUTONOMA DE B.C. - CAMPUS VALLE DE LAS PALMAS & 135                                                       & 16                                                        & 62.70                                                     & 2017                                                     \\\\\n",
       "\t BAJA CALIFORNIA                                           & UNIVERSIDAD AUTONOMA DE B.C., UNIDAD ENSENADA             & 188                                                       & 55                                                        & 64.88                                                     & 2017                                                     \\\\\n",
       "\\end{tabular}\n"
      ],
      "text/markdown": [
       "\n",
       "| ENTIDAD.FEDERATIVA | FACULTAD.O.ESCUELA.DE.MEDICINA | SUSTENTANTES | SELECCIONADOS | PROMEDIO.GENERAL | AGNO |\n",
       "|---|---|---|---|---|---|\n",
       "| AGUASCALIENTES                                            | UNIVERSIDAD AUTONOMA DE AGUASCALIENTES                    | 239                                                       | 84                                                        | 67.52                                                     | 2017                                                      |\n",
       "| AGUASCALIENTES                                            | UNIVERSIDAD CUAUHTEMOC - PLANTEL AGUASCALIENTES           |  72                                                       |  9                                                        | 63.81                                                     | 2017                                                      |\n",
       "| BAJA CALIFORNIA                                           | CENTRO ESTUDIOS UNIVERSIDAD XOCHICALCO, UNIDAD ENSENADA   | 247                                                       | 48                                                        | 61.16                                                     | 2017                                                      |\n",
       "| BAJA CALIFORNIA                                           | CENTRO ESTUDIOS UNIVERSIDAD XOCHICALCO, UNIDAD TIJUANA    | 152                                                       | 30                                                        | 62.48                                                     | 2017                                                      |\n",
       "| BAJA CALIFORNIA                                           | UNIVERSIDAD AUTONOMA DE B.C. - CAMPUS VALLE DE LAS PALMAS | 135                                                       | 16                                                        | 62.70                                                     | 2017                                                      |\n",
       "| BAJA CALIFORNIA                                           | UNIVERSIDAD AUTONOMA DE B.C., UNIDAD ENSENADA             | 188                                                       | 55                                                        | 64.88                                                     | 2017                                                      |\n",
       "\n"
      ],
      "text/plain": [
       "  ENTIDAD.FEDERATIVA FACULTAD.O.ESCUELA.DE.MEDICINA                           \n",
       "1 AGUASCALIENTES     UNIVERSIDAD AUTONOMA DE AGUASCALIENTES                   \n",
       "2 AGUASCALIENTES     UNIVERSIDAD CUAUHTEMOC - PLANTEL AGUASCALIENTES          \n",
       "3 BAJA CALIFORNIA    CENTRO ESTUDIOS UNIVERSIDAD XOCHICALCO, UNIDAD ENSENADA  \n",
       "4 BAJA CALIFORNIA    CENTRO ESTUDIOS UNIVERSIDAD XOCHICALCO, UNIDAD TIJUANA   \n",
       "5 BAJA CALIFORNIA    UNIVERSIDAD AUTONOMA DE B.C. - CAMPUS VALLE DE LAS PALMAS\n",
       "6 BAJA CALIFORNIA    UNIVERSIDAD AUTONOMA DE B.C., UNIDAD ENSENADA            \n",
       "  SUSTENTANTES SELECCIONADOS PROMEDIO.GENERAL AGNO\n",
       "1 239          84            67.52            2017\n",
       "2  72           9            63.81            2017\n",
       "3 247          48            61.16            2017\n",
       "4 152          30            62.48            2017\n",
       "5 135          16            62.70            2017\n",
       "6 188          55            64.88            2017"
      ]
     },
     "metadata": {},
     "output_type": "display_data"
    }
   ],
   "source": [
    "head(Valores)"
   ]
  },
  {
   "cell_type": "code",
   "execution_count": 6,
   "metadata": {},
   "outputs": [],
   "source": [
    "eficiencia <- Valores$SELECCIONADOS / Valores$SUSTENTANTES"
   ]
  },
  {
   "cell_type": "code",
   "execution_count": 7,
   "metadata": {},
   "outputs": [
    {
     "data": {
      "text/plain": [
       "   Min. 1st Qu.  Median    Mean 3rd Qu.    Max.    NA's \n",
       " 0.0000  0.1429  0.2156  0.2426  0.3075  1.0000      11 "
      ]
     },
     "metadata": {},
     "output_type": "display_data"
    }
   ],
   "source": [
    "summary (eficiencia)"
   ]
  },
  {
   "cell_type": "code",
   "execution_count": 8,
   "metadata": {},
   "outputs": [
    {
     "data": {
      "text/html": [
       "0.215563506261181"
      ],
      "text/latex": [
       "0.215563506261181"
      ],
      "text/markdown": [
       "0.215563506261181"
      ],
      "text/plain": [
       "[1] 0.2155635"
      ]
     },
     "metadata": {},
     "output_type": "display_data"
    }
   ],
   "source": [
    "median (eficiencia, na.rm = T)"
   ]
  },
  {
   "cell_type": "code",
   "execution_count": 36,
   "metadata": {},
   "outputs": [
    {
     "data": {
      "image/png": "[encoded data removed]",
      "text/plain": [
       "Plot with title \"Dist. Uniforme\""
      ]
     },
     "metadata": {},
     "output_type": "display_data"
    }
   ],
   "source": [
    "options(repr.plot.width=5,repr.plot.height=5/1.61803)\n",
    "hist (eficiencia, main=\"Dist. Uniforme\", col=\"red\", border=\"blue\", labels= T, ylab=\"Frecuencia\",)"
   ]
  },
  {
   "cell_type": "markdown",
   "metadata": {},
   "source": [
    "## Probabilidad de aprobar"
   ]
  },
  {
   "cell_type": "code",
   "execution_count": 9,
   "metadata": {},
   "outputs": [],
   "source": [
    "Aprobar <- 0.216"
   ]
  },
  {
   "cell_type": "markdown",
   "metadata": {},
   "source": [
    "## Probabilidad de reprobar"
   ]
  },
  {
   "cell_type": "code",
   "execution_count": 10,
   "metadata": {},
   "outputs": [
    {
     "data": {
      "text/html": [
       "0.784"
      ],
      "text/latex": [
       "0.784"
      ],
      "text/markdown": [
       "0.784"
      ],
      "text/plain": [
       "[1] 0.784"
      ]
     },
     "metadata": {},
     "output_type": "display_data"
    }
   ],
   "source": [
    "1-Aprobar"
   ]
  },
  {
   "cell_type": "code",
   "execution_count": 11,
   "metadata": {},
   "outputs": [],
   "source": [
    "Reprobar <- 0.784"
   ]
  },
  {
   "cell_type": "markdown",
   "metadata": {},
   "source": [
    "## El número de veces que un médico debe presentar su exámen es 4 veces para que tenga una probabilidad de éxito mayor al 50 %."
   ]
  },
  {
   "cell_type": "code",
   "execution_count": 17,
   "metadata": {},
   "outputs": [
    {
     "data": {
      "text/html": [
       "0.132765696"
      ],
      "text/latex": [
       "0.132765696"
      ],
      "text/markdown": [
       "0.132765696"
      ],
      "text/plain": [
       "[1] 0.1327657"
      ]
     },
     "metadata": {},
     "output_type": "display_data"
    }
   ],
   "source": [
    "Reprobar*Reprobar*Aprobar"
   ]
  },
  {
   "cell_type": "code",
   "execution_count": 18,
   "metadata": {},
   "outputs": [
    {
     "data": {
      "text/html": [
       "0.104088305664"
      ],
      "text/latex": [
       "0.104088305664"
      ],
      "text/markdown": [
       "0.104088305664"
      ],
      "text/plain": [
       "[1] 0.1040883"
      ]
     },
     "metadata": {},
     "output_type": "display_data"
    }
   ],
   "source": [
    "Reprobar*Reprobar*Reprobar*Aprobar"
   ]
  },
  {
   "cell_type": "code",
   "execution_count": 19,
   "metadata": {},
   "outputs": [
    {
     "data": {
      "text/html": [
       "0.081605231640576"
      ],
      "text/latex": [
       "0.081605231640576"
      ],
      "text/markdown": [
       "0.081605231640576"
      ],
      "text/plain": [
       "[1] 0.08160523"
      ]
     },
     "metadata": {},
     "output_type": "display_data"
    }
   ],
   "source": [
    "Reprobar*Reprobar*Reprobar*Reprobar*Aprobar"
   ]
  },
  {
   "cell_type": "markdown",
   "metadata": {},
   "source": [
    "## La probabilidad despúes de 4 intentos es mayor al 50%"
   ]
  },
  {
   "cell_type": "markdown",
   "metadata": {},
   "source": [
    "$$ Calculando los  K intentos del ENARM con una p >= 0.5 $$"
   ]
  },
  {
   "cell_type": "markdown",
   "metadata": {},
   "source": [
    "$$ 1 <A ó R $$\n",
    "$$ 2 ________<A ó R $$\n",
    "$$ 3 ________________<A ó R $$\n",
    "$$ 4 ________________________<A ó R $$\n",
    "$$ 5 ________________________________<A ó R $$\n",
    "\n",
    "$$ 1 - P(R*R*R*R*R)$$"
   ]
  }
 ],
 "metadata": {
  "kernelspec": {
   "display_name": "R",
   "language": "R",
   "name": "ir"
  },
  "language_info": {
   "codemirror_mode": "r",
   "file_extension": ".r",
   "mimetype": "text/x-r-source",
   "name": "R",
   "pygments_lexer": "r",
   "version": "3.6.1"
  }
 },
 "nbformat": 4,
 "nbformat_minor": 2
}
