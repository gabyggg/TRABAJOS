{
 "cells": [
  {
   "cell_type": "markdown",
   "metadata": {},
   "source": [
    "## Números aleatorios e Histograma"
   ]
  },
  {
   "cell_type": "code",
   "execution_count": 1,
   "metadata": {},
   "outputs": [],
   "source": [
    "numAleatorios <- runif(n= 30, min = 100, max = 500)\n"
   ]
  },
  {
   "cell_type": "code",
   "execution_count": 2,
   "metadata": {},
   "outputs": [
    {
     "data": {
      "text/html": [
       "<ol class=list-inline>\n",
       "\t<li>131.768233980983</li>\n",
       "\t<li>499.425582494587</li>\n",
       "\t<li>436.545645911247</li>\n",
       "\t<li>189.73542349413</li>\n",
       "\t<li>426.788833457977</li>\n",
       "\t<li>423.530651722103</li>\n",
       "</ol>\n"
      ],
      "text/latex": [
       "\\begin{enumerate*}\n",
       "\\item 131.768233980983\n",
       "\\item 499.425582494587\n",
       "\\item 436.545645911247\n",
       "\\item 189.73542349413\n",
       "\\item 426.788833457977\n",
       "\\item 423.530651722103\n",
       "\\end{enumerate*}\n"
      ],
      "text/markdown": [
       "1. 131.768233980983\n",
       "2. 499.425582494587\n",
       "3. 436.545645911247\n",
       "4. 189.73542349413\n",
       "5. 426.788833457977\n",
       "6. 423.530651722103\n",
       "\n",
       "\n"
      ],
      "text/plain": [
       "[1] 131.7682 499.4256 436.5456 189.7354 426.7888 423.5307"
      ]
     },
     "metadata": {},
     "output_type": "display_data"
    }
   ],
   "source": [
    "head( numAleatorios)"
   ]
  },
  {
   "cell_type": "code",
   "execution_count": 3,
   "metadata": {},
   "outputs": [
    {
     "data": {
      "text/plain": [
       "   Min. 1st Qu.  Median    Mean 3rd Qu.    Max. \n",
       "  108.5   239.1   317.1   321.5   426.0   499.4 "
      ]
     },
     "metadata": {},
     "output_type": "display_data"
    }
   ],
   "source": [
    "summary(numAleatorios)"
   ]
  },
  {
   "cell_type": "code",
   "execution_count": 4,
   "metadata": {},
   "outputs": [
    {
     "data": {
      "image/png": "[encoded data removed]",
      "text/plain": [
       "Plot with title \"Dist. Uniforme\""
      ]
     },
     "metadata": {},
     "output_type": "display_data"
    }
   ],
   "source": [
    "hist(numAleatorios, main=\"Dist. Uniforme\", col=\"pink\", border=\"black\", labels=T, ylim=c(0,10))"
   ]
  },
  {
   "cell_type": "markdown",
   "metadata": {},
   "source": [
    "<img src=\"https://ibb.co/gd6g9qk\" width=\"1000\">"
   ]
  },
  {
   "cell_type": "markdown",
   "metadata": {},
   "source": [
    "## Fin"
   ]
  },
  {
   "cell_type": "code",
   "execution_count": null,
   "metadata": {},
   "outputs": [],
   "source": []
  }
 ],
 "metadata": {
  "kernelspec": {
   "display_name": "R",
   "language": "R",
   "name": "ir"
  },
  "language_info": {
   "codemirror_mode": "r",
   "file_extension": ".r",
   "mimetype": "text/x-r-source",
   "name": "R",
   "pygments_lexer": "r",
   "version": "3.6.1"
  }
 },
 "nbformat": 4,
 "nbformat_minor": 2
}
