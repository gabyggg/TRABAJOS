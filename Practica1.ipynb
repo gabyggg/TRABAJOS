{
 "cells": [
  {
   "cell_type": "markdown",
   "metadata": {},
   "source": [
    "Distribución muestral de la proporción."
   ]
  },
  {
   "cell_type": "code",
   "execution_count": 1,
   "metadata": {},
   "outputs": [],
   "source": [
    "Valores <- read.csv (\"Practica1.csv\")"
   ]
  },
  {
   "cell_type": "code",
   "execution_count": 2,
   "metadata": {},
   "outputs": [
    {
     "data": {
      "text/html": [
       "<table>\n",
       "<thead><tr><th scope=col>mes</th><th scope=col>accidentes</th><th scope=col>X.f.media.</th><th scope=col>X.f.media..2</th></tr></thead>\n",
       "<tbody>\n",
       "\t<tr><td>1   </td><td>3   </td><td> 0.5</td><td>0.25</td></tr>\n",
       "\t<tr><td>2   </td><td>4   </td><td> 1.5</td><td>2.25</td></tr>\n",
       "\t<tr><td>3   </td><td>2   </td><td>-0.5</td><td>0.25</td></tr>\n",
       "\t<tr><td>4   </td><td>1   </td><td>-1.5</td><td>2.25</td></tr>\n",
       "\t<tr><td>5   </td><td>5   </td><td> 2.5</td><td>6.25</td></tr>\n",
       "\t<tr><td>6   </td><td>0   </td><td>-2.5</td><td>6.25</td></tr>\n",
       "</tbody>\n",
       "</table>\n"
      ],
      "text/latex": [
       "\\begin{tabular}{r|llll}\n",
       " mes & accidentes & X.f.media. & X.f.media..2\\\\\n",
       "\\hline\n",
       "\t 1    & 3    &  0.5 & 0.25\\\\\n",
       "\t 2    & 4    &  1.5 & 2.25\\\\\n",
       "\t 3    & 2    & -0.5 & 0.25\\\\\n",
       "\t 4    & 1    & -1.5 & 2.25\\\\\n",
       "\t 5    & 5    &  2.5 & 6.25\\\\\n",
       "\t 6    & 0    & -2.5 & 6.25\\\\\n",
       "\\end{tabular}\n"
      ],
      "text/markdown": [
       "\n",
       "| mes | accidentes | X.f.media. | X.f.media..2 |\n",
       "|---|---|---|---|\n",
       "| 1    | 3    |  0.5 | 0.25 |\n",
       "| 2    | 4    |  1.5 | 2.25 |\n",
       "| 3    | 2    | -0.5 | 0.25 |\n",
       "| 4    | 1    | -1.5 | 2.25 |\n",
       "| 5    | 5    |  2.5 | 6.25 |\n",
       "| 6    | 0    | -2.5 | 6.25 |\n",
       "\n"
      ],
      "text/plain": [
       "  mes accidentes X.f.media. X.f.media..2\n",
       "1 1   3           0.5       0.25        \n",
       "2 2   4           1.5       2.25        \n",
       "3 3   2          -0.5       0.25        \n",
       "4 4   1          -1.5       2.25        \n",
       "5 5   5           2.5       6.25        \n",
       "6 6   0          -2.5       6.25        "
      ]
     },
     "metadata": {},
     "output_type": "display_data"
    }
   ],
   "source": [
    "head(Valores)"
   ]
  },
  {
   "cell_type": "code",
   "execution_count": 3,
   "metadata": {},
   "outputs": [],
   "source": [
    "acc <- Valores$accidentes"
   ]
  },
  {
   "cell_type": "code",
   "execution_count": 4,
   "metadata": {},
   "outputs": [
    {
     "data": {
      "text/plain": [
       "   Min. 1st Qu.  Median    Mean 3rd Qu.    Max. \n",
       "  0.000   1.354   2.500   3.444   3.500  15.000 "
      ]
     },
     "metadata": {},
     "output_type": "display_data"
    }
   ],
   "source": [
    "summary (acc)"
   ]
  },
  {
   "cell_type": "code",
   "execution_count": 5,
   "metadata": {},
   "outputs": [
    {
     "data": {
      "text/html": [
       "2.5"
      ],
      "text/latex": [
       "2.5"
      ],
      "text/markdown": [
       "2.5"
      ],
      "text/plain": [
       "[1] 2.5"
      ]
     },
     "metadata": {},
     "output_type": "display_data"
    }
   ],
   "source": [
    "median (acc, na.rm = T)"
   ]
  },
  {
   "cell_type": "code",
   "execution_count": 6,
   "metadata": {},
   "outputs": [
    {
     "data": {
      "image/png": "[encoded data removed]",
      "text/plain": [
       "Plot with title \"Gráfica de Barras\""
      ]
     },
     "metadata": {},
     "output_type": "display_data"
    }
   ],
   "source": [
    "options(repr.plot.width=5,repr.plot.height=5/1.61803)\n",
    "hist (acc, main=\"Gráfica de Barras\", col=\"red\", border=\"blue\", labels= T, ylab=\"Frecuencia\", ylim=c(0,12), xlim=c(0,15),)"
   ]
  },
  {
   "cell_type": "code",
   "execution_count": 7,
   "metadata": {},
   "outputs": [],
   "source": [
    "media <- 2.5"
   ]
  },
  {
   "cell_type": "markdown",
   "metadata": {},
   "source": [
    "## Desviación estándar"
   ]
  },
  {
   "cell_type": "markdown",
   "metadata": {},
   "source": [
    "  Desviación = (La suma total de los accidentes / el numero de meses) elevado a la 1/2"
   ]
  },
  {
   "cell_type": "markdown",
   "metadata": {},
   "source": [
    "## Sustituyendo tenemos que  :"
   ]
  },
  {
   "cell_type": "code",
   "execution_count": 8,
   "metadata": {},
   "outputs": [],
   "source": [
    "Desviación  <- (17.5 / 6)^(1/2)\n"
   ]
  },
  {
   "cell_type": "code",
   "execution_count": 9,
   "metadata": {},
   "outputs": [
    {
     "data": {
      "text/html": [
       "1.70782512765993"
      ],
      "text/latex": [
       "1.70782512765993"
      ],
      "text/markdown": [
       "1.70782512765993"
      ],
      "text/plain": [
       "[1] 1.707825"
      ]
     },
     "metadata": {},
     "output_type": "display_data"
    }
   ],
   "source": [
    "Desviación"
   ]
  },
  {
   "cell_type": "markdown",
   "metadata": {},
   "source": [
    "# Varianza"
   ]
  },
  {
   "cell_type": "markdown",
   "metadata": {},
   "source": [
    "Varianza = (la sumatoria de cada una de las frecuencias menos la media elevado al cuadrado cada una de ellas / el numero total de meses)"
   ]
  },
  {
   "cell_type": "markdown",
   "metadata": {},
   "source": [
    "Varianza = (Σ(f-media)^2 / (Σ meses))"
   ]
  },
  {
   "cell_type": "markdown",
   "metadata": {},
   "source": [
    "Σ(f-media)^2  = 17.5"
   ]
  },
  {
   "cell_type": "code",
   "execution_count": 10,
   "metadata": {},
   "outputs": [],
   "source": [
    "Varianza <- 17.5 / 6\n"
   ]
  },
  {
   "cell_type": "code",
   "execution_count": 11,
   "metadata": {},
   "outputs": [
    {
     "data": {
      "text/html": [
       "2.91666666666667"
      ],
      "text/latex": [
       "2.91666666666667"
      ],
      "text/markdown": [
       "2.91666666666667"
      ],
      "text/plain": [
       "[1] 2.916667"
      ]
     },
     "metadata": {},
     "output_type": "display_data"
    }
   ],
   "source": [
    "Varianza"
   ]
  },
  {
   "cell_type": "markdown",
   "metadata": {},
   "source": [
    "N = 6\n",
    "n = 3\n",
    "Desviación estándar = 1.7078\n"
   ]
  },
  {
   "cell_type": "markdown",
   "metadata": {},
   "source": [
    "error estándar es igual a la desviacón estandar / la raíz de n por el producto de N menos n  entre N-1 "
   ]
  },
  {
   "cell_type": "code",
   "execution_count": 12,
   "metadata": {},
   "outputs": [],
   "source": [
    "Varianza = 0.7637"
   ]
  },
  {
   "cell_type": "code",
   "execution_count": 13,
   "metadata": {},
   "outputs": [],
   "source": [
    "Valoresn <- read.csv(\"Practica1muestra3.csv\")"
   ]
  },
  {
   "cell_type": "code",
   "execution_count": 14,
   "metadata": {},
   "outputs": [
    {
     "data": {
      "text/html": [
       "<table>\n",
       "<thead><tr><th scope=col>mes</th><th scope=col>accidentes</th><th scope=col>muestra1</th><th scope=col>muestra2</th><th scope=col>muestra3</th><th scope=col>muestra4</th><th scope=col>muestra5</th><th scope=col>muestra6</th><th scope=col>muestra7</th><th scope=col>muestra8</th><th scope=col>...</th><th scope=col>muestra11</th><th scope=col>muestra12</th><th scope=col>muestra13</th><th scope=col>muestra14</th><th scope=col>muestra15</th><th scope=col>muestra16</th><th scope=col>muestra17</th><th scope=col>muestra18</th><th scope=col>muestra19</th><th scope=col>muestra20</th></tr></thead>\n",
       "<tbody>\n",
       "\t<tr><td>E  </td><td>3  </td><td> 3 </td><td> 3 </td><td> 3 </td><td> 3 </td><td>NA </td><td>NA </td><td>NA </td><td>NA </td><td>...</td><td>NA </td><td>NA </td><td>NA </td><td> 3 </td><td>NA </td><td>NA </td><td>NA </td><td>NA </td><td>NA </td><td>NA </td></tr>\n",
       "\t<tr><td>F  </td><td>4  </td><td> 4 </td><td> 4 </td><td> 4 </td><td> 4 </td><td> 4 </td><td> 4 </td><td> 4 </td><td>NA </td><td>...</td><td> 4 </td><td>NA </td><td>NA </td><td> 4 </td><td> 4 </td><td>NA </td><td>NA </td><td> 4 </td><td> 3 </td><td>NA </td></tr>\n",
       "\t<tr><td>M  </td><td>2  </td><td> 2 </td><td>NA </td><td>NA </td><td>NA </td><td> 2 </td><td> 2 </td><td> 2 </td><td> 2 </td><td>...</td><td>NA </td><td> 2 </td><td>NA </td><td>NA </td><td> 2 </td><td> 2 </td><td>NA </td><td> 2 </td><td>NA </td><td> 2 </td></tr>\n",
       "\t<tr><td>A  </td><td>1  </td><td>NA </td><td> 1 </td><td>NA </td><td>NA </td><td> 1 </td><td>NA </td><td>NA </td><td> 1 </td><td>...</td><td>NA </td><td>NA </td><td> 1 </td><td>NA </td><td>NA </td><td> 1 </td><td> 1 </td><td>NA </td><td> 1 </td><td> 1 </td></tr>\n",
       "\t<tr><td>M  </td><td>5  </td><td>NA </td><td>NA </td><td> 5 </td><td>NA </td><td>NA </td><td> 5 </td><td>NA </td><td> 5 </td><td>...</td><td> 5 </td><td> 5 </td><td> 5 </td><td>NA </td><td>NA </td><td>NA </td><td> 5 </td><td> 5 </td><td> 5 </td><td> 5 </td></tr>\n",
       "\t<tr><td>J  </td><td>0  </td><td>NA </td><td>NA </td><td>NA </td><td> 0 </td><td>NA </td><td>NA </td><td> 0 </td><td>NA </td><td>...</td><td> 0 </td><td> 0 </td><td> 0 </td><td> 0 </td><td> 0 </td><td> 0 </td><td> 0 </td><td>NA </td><td>NA </td><td>NA </td></tr>\n",
       "</tbody>\n",
       "</table>\n"
      ],
      "text/latex": [
       "\\begin{tabular}{r|llllllllllllllllllllll}\n",
       " mes & accidentes & muestra1 & muestra2 & muestra3 & muestra4 & muestra5 & muestra6 & muestra7 & muestra8 & ... & muestra11 & muestra12 & muestra13 & muestra14 & muestra15 & muestra16 & muestra17 & muestra18 & muestra19 & muestra20\\\\\n",
       "\\hline\n",
       "\t E   & 3   &  3  &  3  &  3  &  3  & NA  & NA  & NA  & NA  & ... & NA  & NA  & NA  &  3  & NA  & NA  & NA  & NA  & NA  & NA \\\\\n",
       "\t F   & 4   &  4  &  4  &  4  &  4  &  4  &  4  &  4  & NA  & ... &  4  & NA  & NA  &  4  &  4  & NA  & NA  &  4  &  3  & NA \\\\\n",
       "\t M   & 2   &  2  & NA  & NA  & NA  &  2  &  2  &  2  &  2  & ... & NA  &  2  & NA  & NA  &  2  &  2  & NA  &  2  & NA  &  2 \\\\\n",
       "\t A   & 1   & NA  &  1  & NA  & NA  &  1  & NA  & NA  &  1  & ... & NA  & NA  &  1  & NA  & NA  &  1  &  1  & NA  &  1  &  1 \\\\\n",
       "\t M   & 5   & NA  & NA  &  5  & NA  & NA  &  5  & NA  &  5  & ... &  5  &  5  &  5  & NA  & NA  & NA  &  5  &  5  &  5  &  5 \\\\\n",
       "\t J   & 0   & NA  & NA  & NA  &  0  & NA  & NA  &  0  & NA  & ... &  0  &  0  &  0  &  0  &  0  &  0  &  0  & NA  & NA  & NA \\\\\n",
       "\\end{tabular}\n"
      ],
      "text/markdown": [
       "\n",
       "| mes | accidentes | muestra1 | muestra2 | muestra3 | muestra4 | muestra5 | muestra6 | muestra7 | muestra8 | ... | muestra11 | muestra12 | muestra13 | muestra14 | muestra15 | muestra16 | muestra17 | muestra18 | muestra19 | muestra20 |\n",
       "|---|---|---|---|---|---|---|---|---|---|---|---|---|---|---|---|---|---|---|---|---|\n",
       "| E   | 3   |  3  |  3  |  3  |  3  | NA  | NA  | NA  | NA  | ... | NA  | NA  | NA  |  3  | NA  | NA  | NA  | NA  | NA  | NA  |\n",
       "| F   | 4   |  4  |  4  |  4  |  4  |  4  |  4  |  4  | NA  | ... |  4  | NA  | NA  |  4  |  4  | NA  | NA  |  4  |  3  | NA  |\n",
       "| M   | 2   |  2  | NA  | NA  | NA  |  2  |  2  |  2  |  2  | ... | NA  |  2  | NA  | NA  |  2  |  2  | NA  |  2  | NA  |  2  |\n",
       "| A   | 1   | NA  |  1  | NA  | NA  |  1  | NA  | NA  |  1  | ... | NA  | NA  |  1  | NA  | NA  |  1  |  1  | NA  |  1  |  1  |\n",
       "| M   | 5   | NA  | NA  |  5  | NA  | NA  |  5  | NA  |  5  | ... |  5  |  5  |  5  | NA  | NA  | NA  |  5  |  5  |  5  |  5  |\n",
       "| J   | 0   | NA  | NA  | NA  |  0  | NA  | NA  |  0  | NA  | ... |  0  |  0  |  0  |  0  |  0  |  0  |  0  | NA  | NA  | NA  |\n",
       "\n"
      ],
      "text/plain": [
       "  mes accidentes muestra1 muestra2 muestra3 muestra4 muestra5 muestra6 muestra7\n",
       "1 E   3           3        3        3        3       NA       NA       NA      \n",
       "2 F   4           4        4        4        4        4        4        4      \n",
       "3 M   2           2       NA       NA       NA        2        2        2      \n",
       "4 A   1          NA        1       NA       NA        1       NA       NA      \n",
       "5 M   5          NA       NA        5       NA       NA        5       NA      \n",
       "6 J   0          NA       NA       NA        0       NA       NA        0      \n",
       "  muestra8 ... muestra11 muestra12 muestra13 muestra14 muestra15 muestra16\n",
       "1 NA       ... NA        NA        NA         3        NA        NA       \n",
       "2 NA       ...  4        NA        NA         4         4        NA       \n",
       "3  2       ... NA         2        NA        NA         2         2       \n",
       "4  1       ... NA        NA         1        NA        NA         1       \n",
       "5  5       ...  5         5         5        NA        NA        NA       \n",
       "6 NA       ...  0         0         0         0         0         0       \n",
       "  muestra17 muestra18 muestra19 muestra20\n",
       "1 NA        NA        NA        NA       \n",
       "2 NA         4         3        NA       \n",
       "3 NA         2        NA         2       \n",
       "4  1        NA         1         1       \n",
       "5  5         5         5         5       \n",
       "6  0        NA        NA        NA       "
      ]
     },
     "metadata": {},
     "output_type": "display_data"
    }
   ],
   "source": [
    "head(Valoresn)"
   ]
  },
  {
   "cell_type": "markdown",
   "metadata": {},
   "source": [
    "Para una muestra de n = 3"
   ]
  },
  {
   "cell_type": "code",
   "execution_count": 15,
   "metadata": {},
   "outputs": [],
   "source": [
    "acc1 <-Valoresn$muestra1"
   ]
  },
  {
   "cell_type": "code",
   "execution_count": 16,
   "metadata": {},
   "outputs": [
    {
     "data": {
      "text/plain": [
       "   Min. 1st Qu.  Median    Mean 3rd Qu.    Max.    NA's \n",
       "    2.0     2.5     3.0     3.0     3.5     4.0       4 "
      ]
     },
     "metadata": {},
     "output_type": "display_data"
    }
   ],
   "source": [
    "summary (acc1)"
   ]
  },
  {
   "cell_type": "code",
   "execution_count": 17,
   "metadata": {},
   "outputs": [],
   "source": [
    "muestra1 <-Valoresn$muestra1"
   ]
  },
  {
   "cell_type": "code",
   "execution_count": 18,
   "metadata": {},
   "outputs": [
    {
     "data": {
      "text/html": [
       "3"
      ],
      "text/latex": [
       "3"
      ],
      "text/markdown": [
       "3"
      ],
      "text/plain": [
       "[1] 3"
      ]
     },
     "metadata": {},
     "output_type": "display_data"
    }
   ],
   "source": [
    "median (muestra1, na.rm = T)"
   ]
  },
  {
   "cell_type": "code",
   "execution_count": 19,
   "metadata": {},
   "outputs": [
    {
     "data": {
      "image/png": "[encoded data removed]",
      "text/plain": [
       "Plot with title \"Gráfica de Barras\""
      ]
     },
     "metadata": {},
     "output_type": "display_data"
    }
   ],
   "source": [
    "options(repr.plot.width=5,repr.plot.height=5/1.61803)\n",
    "hist (muestra1, main=\"Gráfica de Barras\", col=\"green\", border=\"blue\", labels= T, ylab=\"Frecuencia\", ylim=c(0,1.5), xlim=c(2,4),)"
   ]
  },
  {
   "cell_type": "code",
   "execution_count": 20,
   "metadata": {},
   "outputs": [],
   "source": [
    "muestra2 <-Valoresn$muestra2"
   ]
  },
  {
   "cell_type": "code",
   "execution_count": 21,
   "metadata": {},
   "outputs": [
    {
     "data": {
      "text/html": [
       "3"
      ],
      "text/latex": [
       "3"
      ],
      "text/markdown": [
       "3"
      ],
      "text/plain": [
       "[1] 3"
      ]
     },
     "metadata": {},
     "output_type": "display_data"
    }
   ],
   "source": [
    "median (muestra2, na.rm = T)"
   ]
  },
  {
   "cell_type": "code",
   "execution_count": 22,
   "metadata": {},
   "outputs": [],
   "source": [
    "acc2 <-Valoresn$muestra2"
   ]
  },
  {
   "cell_type": "code",
   "execution_count": 23,
   "metadata": {},
   "outputs": [
    {
     "data": {
      "text/plain": [
       "   Min. 1st Qu.  Median    Mean 3rd Qu.    Max.    NA's \n",
       "  1.000   2.000   3.000   2.667   3.500   4.000       4 "
      ]
     },
     "metadata": {},
     "output_type": "display_data"
    }
   ],
   "source": [
    "summary (acc2)"
   ]
  },
  {
   "cell_type": "code",
   "execution_count": 24,
   "metadata": {},
   "outputs": [
    {
     "data": {
      "image/png": "[encoded data removed]",
      "text/plain": [
       "Plot with title \"Gráfica de Barras\""
      ]
     },
     "metadata": {},
     "output_type": "display_data"
    }
   ],
   "source": [
    "options(repr.plot.width=5,repr.plot.height=5/1.61803)\n",
    "hist (muestra2, main=\"Gráfica de Barras\", col=\"yellow\", border=\"blue\", labels= T, ylab=\"Frecuencia\", ylim=c(0,2), xlim=c(0,4),)"
   ]
  },
  {
   "cell_type": "code",
   "execution_count": 25,
   "metadata": {},
   "outputs": [],
   "source": [
    "muestra3 <-Valoresn$muestra3"
   ]
  },
  {
   "cell_type": "code",
   "execution_count": 26,
   "metadata": {},
   "outputs": [
    {
     "data": {
      "text/html": [
       "4"
      ],
      "text/latex": [
       "4"
      ],
      "text/markdown": [
       "4"
      ],
      "text/plain": [
       "[1] 4"
      ]
     },
     "metadata": {},
     "output_type": "display_data"
    }
   ],
   "source": [
    "median (muestra3, na.rm = T)"
   ]
  },
  {
   "cell_type": "code",
   "execution_count": 27,
   "metadata": {},
   "outputs": [],
   "source": [
    "acc3 <-Valoresn$muestra3"
   ]
  },
  {
   "cell_type": "code",
   "execution_count": 28,
   "metadata": {},
   "outputs": [
    {
     "data": {
      "text/plain": [
       "   Min. 1st Qu.  Median    Mean 3rd Qu.    Max.    NA's \n",
       "    3.0     3.5     4.0     4.0     4.5     5.0       4 "
      ]
     },
     "metadata": {},
     "output_type": "display_data"
    }
   ],
   "source": [
    "summary (acc3)"
   ]
  },
  {
   "cell_type": "code",
   "execution_count": 29,
   "metadata": {},
   "outputs": [
    {
     "data": {
      "image/png": "[encoded data removed]",
      "text/plain": [
       "Plot with title \"Gráfica de Barras\""
      ]
     },
     "metadata": {},
     "output_type": "display_data"
    }
   ],
   "source": [
    "options(repr.plot.width=5,repr.plot.height=5/1.61803)\n",
    "hist (muestra3, main=\"Gráfica de Barras\", col=\"orange\", border=\"blue\", labels= T, ylab=\"Frecuencia\", ylim=c(0,2), xlim=c(1,5),)"
   ]
  },
  {
   "cell_type": "code",
   "execution_count": 30,
   "metadata": {},
   "outputs": [],
   "source": [
    "muestra4 <-Valoresn$muestra4"
   ]
  },
  {
   "cell_type": "code",
   "execution_count": 31,
   "metadata": {},
   "outputs": [
    {
     "data": {
      "text/html": [
       "3"
      ],
      "text/latex": [
       "3"
      ],
      "text/markdown": [
       "3"
      ],
      "text/plain": [
       "[1] 3"
      ]
     },
     "metadata": {},
     "output_type": "display_data"
    }
   ],
   "source": [
    "median (muestra4, na.rm = T)"
   ]
  },
  {
   "cell_type": "code",
   "execution_count": 32,
   "metadata": {},
   "outputs": [],
   "source": [
    "acc4 <-Valoresn$muestra4"
   ]
  },
  {
   "cell_type": "code",
   "execution_count": 33,
   "metadata": {},
   "outputs": [
    {
     "data": {
      "text/plain": [
       "   Min. 1st Qu.  Median    Mean 3rd Qu.    Max.    NA's \n",
       "  0.000   1.500   3.000   2.333   3.500   4.000       4 "
      ]
     },
     "metadata": {},
     "output_type": "display_data"
    }
   ],
   "source": [
    "summary (acc4)"
   ]
  },
  {
   "cell_type": "code",
   "execution_count": 34,
   "metadata": {},
   "outputs": [
    {
     "data": {
      "image/png": "[encoded data removed]",
      "text/plain": [
       "Plot with title \"Gráfica de Barras\""
      ]
     },
     "metadata": {},
     "output_type": "display_data"
    }
   ],
   "source": [
    "options(repr.plot.width=5,repr.plot.height=5/1.61803)\n",
    "hist (muestra4, main=\"Gráfica de Barras\", col=\"black\", border=\"blue\", labels= T, ylab=\"Frecuencia\", ylim=c(0,2), xlim=c(0,6),)"
   ]
  },
  {
   "cell_type": "code",
   "execution_count": 35,
   "metadata": {},
   "outputs": [],
   "source": [
    "muestra5 <-Valoresn$muestra5"
   ]
  },
  {
   "cell_type": "code",
   "execution_count": 36,
   "metadata": {},
   "outputs": [
    {
     "data": {
      "text/html": [
       "2"
      ],
      "text/latex": [
       "2"
      ],
      "text/markdown": [
       "2"
      ],
      "text/plain": [
       "[1] 2"
      ]
     },
     "metadata": {},
     "output_type": "display_data"
    }
   ],
   "source": [
    "median (muestra5, na.rm = T)"
   ]
  },
  {
   "cell_type": "code",
   "execution_count": 37,
   "metadata": {},
   "outputs": [],
   "source": [
    "acc5 <-Valoresn$muestra5"
   ]
  },
  {
   "cell_type": "code",
   "execution_count": 38,
   "metadata": {},
   "outputs": [
    {
     "data": {
      "text/plain": [
       "   Min. 1st Qu.  Median    Mean 3rd Qu.    Max.    NA's \n",
       "  1.000   1.500   2.000   2.333   3.000   4.000       4 "
      ]
     },
     "metadata": {},
     "output_type": "display_data"
    }
   ],
   "source": [
    "summary (acc5)"
   ]
  },
  {
   "cell_type": "code",
   "execution_count": 39,
   "metadata": {},
   "outputs": [
    {
     "data": {
      "image/png": "[encoded data removed]",
      "text/plain": [
       "Plot with title \"Gráfica de Barras\""
      ]
     },
     "metadata": {},
     "output_type": "display_data"
    }
   ],
   "source": [
    "options(repr.plot.width=5,repr.plot.height=5/1.61803)\n",
    "hist (muestra5, main=\"Gráfica de Barras\", col=\"grey\", border=\"blue\", labels= T, ylab=\"Frecuencia\", ylim=c(0,1.2), xlim=c(0,6),)"
   ]
  },
  {
   "cell_type": "code",
   "execution_count": 40,
   "metadata": {},
   "outputs": [],
   "source": [
    "muestra6 <-Valoresn$muestra6"
   ]
  },
  {
   "cell_type": "code",
   "execution_count": 41,
   "metadata": {},
   "outputs": [
    {
     "data": {
      "text/html": [
       "4"
      ],
      "text/latex": [
       "4"
      ],
      "text/markdown": [
       "4"
      ],
      "text/plain": [
       "[1] 4"
      ]
     },
     "metadata": {},
     "output_type": "display_data"
    }
   ],
   "source": [
    "median (muestra6, na.rm = T)"
   ]
  },
  {
   "cell_type": "code",
   "execution_count": 42,
   "metadata": {},
   "outputs": [],
   "source": [
    "acc6 <-Valoresn$muestra6"
   ]
  },
  {
   "cell_type": "code",
   "execution_count": 43,
   "metadata": {},
   "outputs": [
    {
     "data": {
      "text/plain": [
       "   Min. 1st Qu.  Median    Mean 3rd Qu.    Max.    NA's \n",
       "  2.000   3.000   4.000   3.667   4.500   5.000       4 "
      ]
     },
     "metadata": {},
     "output_type": "display_data"
    }
   ],
   "source": [
    "summary (acc6)"
   ]
  },
  {
   "cell_type": "code",
   "execution_count": 44,
   "metadata": {},
   "outputs": [
    {
     "data": {
      "image/png": "[encoded data removed]",
      "text/plain": [
       "Plot with title \"Gráfica de Barras\""
      ]
     },
     "metadata": {},
     "output_type": "display_data"
    }
   ],
   "source": [
    "options(repr.plot.width=5,repr.plot.height=5/1.61803)\n",
    "hist (muestra6, main=\"Gráfica de Barras\", col=\"brown\", border=\"blue\", labels= T, ylab=\"Frecuencia\", ylim=c(0,1.2), xlim=c(0,4),)"
   ]
  },
  {
   "cell_type": "code",
   "execution_count": 45,
   "metadata": {},
   "outputs": [],
   "source": [
    "muestra7 <-Valoresn$muestra7"
   ]
  },
  {
   "cell_type": "code",
   "execution_count": 46,
   "metadata": {},
   "outputs": [
    {
     "data": {
      "text/html": [
       "2"
      ],
      "text/latex": [
       "2"
      ],
      "text/markdown": [
       "2"
      ],
      "text/plain": [
       "[1] 2"
      ]
     },
     "metadata": {},
     "output_type": "display_data"
    }
   ],
   "source": [
    "median (muestra7, na.rm = T)"
   ]
  },
  {
   "cell_type": "code",
   "execution_count": 47,
   "metadata": {},
   "outputs": [],
   "source": [
    "acc7 <-Valoresn$muestra7"
   ]
  },
  {
   "cell_type": "code",
   "execution_count": 48,
   "metadata": {},
   "outputs": [
    {
     "data": {
      "text/plain": [
       "   Min. 1st Qu.  Median    Mean 3rd Qu.    Max.    NA's \n",
       "      0       1       2       2       3       4       4 "
      ]
     },
     "metadata": {},
     "output_type": "display_data"
    }
   ],
   "source": [
    "summary (acc7)"
   ]
  },
  {
   "cell_type": "code",
   "execution_count": 49,
   "metadata": {},
   "outputs": [
    {
     "data": {
      "image/png": "[encoded data removed]",
      "text/plain": [
       "Plot with title \"Gráfica de Barras\""
      ]
     },
     "metadata": {},
     "output_type": "display_data"
    }
   ],
   "source": [
    "options(repr.plot.width=5,repr.plot.height=5/1.61803)\n",
    "hist (muestra7, main=\"Gráfica de Barras\", col=\"green\", border=\"blue\", labels= T, ylab=\"Frecuencia\", ylim=c(0,1.5), xlim=c(2,4),)"
   ]
  },
  {
   "cell_type": "code",
   "execution_count": 50,
   "metadata": {},
   "outputs": [],
   "source": [
    "muestra8 <-Valoresn$muestra8"
   ]
  },
  {
   "cell_type": "code",
   "execution_count": 51,
   "metadata": {},
   "outputs": [
    {
     "data": {
      "text/html": [
       "2"
      ],
      "text/latex": [
       "2"
      ],
      "text/markdown": [
       "2"
      ],
      "text/plain": [
       "[1] 2"
      ]
     },
     "metadata": {},
     "output_type": "display_data"
    }
   ],
   "source": [
    "median (muestra8, na.rm = T)"
   ]
  },
  {
   "cell_type": "code",
   "execution_count": 52,
   "metadata": {},
   "outputs": [],
   "source": [
    "acc8 <-Valoresn$muestra8"
   ]
  },
  {
   "cell_type": "code",
   "execution_count": 53,
   "metadata": {},
   "outputs": [
    {
     "data": {
      "text/plain": [
       "   Min. 1st Qu.  Median    Mean 3rd Qu.    Max.    NA's \n",
       "  1.000   1.500   2.000   2.667   3.500   5.000       4 "
      ]
     },
     "metadata": {},
     "output_type": "display_data"
    }
   ],
   "source": [
    "summary (acc8)"
   ]
  },
  {
   "cell_type": "code",
   "execution_count": 54,
   "metadata": {},
   "outputs": [
    {
     "data": {
      "image/png": "[encoded data removed]",
      "text/plain": [
       "Plot with title \"Gráfica de Barras\""
      ]
     },
     "metadata": {},
     "output_type": "display_data"
    }
   ],
   "source": [
    "options(repr.plot.width=5,repr.plot.height=5/1.61803)\n",
    "hist (muestra8, main=\"Gráfica de Barras\", col=\"pink\", border=\"blue\", labels= T, ylab=\"Frecuencia\", ylim=c(0,2.5), xlim=c(2,5),)"
   ]
  },
  {
   "cell_type": "code",
   "execution_count": 55,
   "metadata": {},
   "outputs": [],
   "source": [
    "muestra9 <-Valoresn$muestra9"
   ]
  },
  {
   "cell_type": "code",
   "execution_count": 56,
   "metadata": {},
   "outputs": [
    {
     "data": {
      "text/html": [
       "1"
      ],
      "text/latex": [
       "1"
      ],
      "text/markdown": [
       "1"
      ],
      "text/plain": [
       "[1] 1"
      ]
     },
     "metadata": {},
     "output_type": "display_data"
    }
   ],
   "source": [
    "median (muestra9, na.rm = T)"
   ]
  },
  {
   "cell_type": "code",
   "execution_count": 57,
   "metadata": {},
   "outputs": [],
   "source": [
    "acc9 <-Valoresn$muestra9"
   ]
  },
  {
   "cell_type": "code",
   "execution_count": 58,
   "metadata": {},
   "outputs": [
    {
     "data": {
      "text/plain": [
       "   Min. 1st Qu.  Median    Mean 3rd Qu.    Max.    NA's \n",
       "    0.0     0.5     1.0     2.0     3.0     5.0       4 "
      ]
     },
     "metadata": {},
     "output_type": "display_data"
    }
   ],
   "source": [
    "summary (acc9)"
   ]
  },
  {
   "cell_type": "code",
   "execution_count": 59,
   "metadata": {},
   "outputs": [
    {
     "data": {
      "image/png": "[encoded data removed]",
      "text/plain": [
       "Plot with title \"Gráfica de Barras\""
      ]
     },
     "metadata": {},
     "output_type": "display_data"
    }
   ],
   "source": [
    "options(repr.plot.width=5,repr.plot.height=5/1.61803)\n",
    "hist (muestra9, main=\"Gráfica de Barras\", col=\"red\", border=\"blue\", labels= T, ylab=\"Frecuencia\", ylim=c(0,2), xlim=c(0,6.5),)\n"
   ]
  },
  {
   "cell_type": "code",
   "execution_count": 60,
   "metadata": {},
   "outputs": [],
   "source": [
    "muestra10 <-Valoresn$muestra10"
   ]
  },
  {
   "cell_type": "code",
   "execution_count": 61,
   "metadata": {},
   "outputs": [
    {
     "data": {
      "text/html": [
       "3"
      ],
      "text/latex": [
       "3"
      ],
      "text/markdown": [
       "3"
      ],
      "text/plain": [
       "[1] 3"
      ]
     },
     "metadata": {},
     "output_type": "display_data"
    }
   ],
   "source": [
    "median (muestra10, na.rm = T)"
   ]
  },
  {
   "cell_type": "code",
   "execution_count": 62,
   "metadata": {},
   "outputs": [],
   "source": [
    "acc10 <-Valoresn$muestra10"
   ]
  },
  {
   "cell_type": "code",
   "execution_count": 63,
   "metadata": {},
   "outputs": [
    {
     "data": {
      "text/plain": [
       "   Min. 1st Qu.  Median    Mean 3rd Qu.    Max.    NA's \n",
       "  0.000   1.500   3.000   2.667   4.000   5.000       4 "
      ]
     },
     "metadata": {},
     "output_type": "display_data"
    }
   ],
   "source": [
    "summary(acc10)"
   ]
  },
  {
   "cell_type": "code",
   "execution_count": 64,
   "metadata": {},
   "outputs": [
    {
     "data": {
      "image/png": "[encoded data removed]",
      "text/plain": [
       "Plot with title \"Gráfica de Barras\""
      ]
     },
     "metadata": {},
     "output_type": "display_data"
    }
   ],
   "source": [
    "options(repr.plot.width=5,repr.plot.height=5/1.61803)\n",
    "hist (muestra10, main=\"Gráfica de Barras\", col=\"blue\", border=\"blue\", labels= T, ylab=\"Frecuencia\", ylim=c(0,1.5), xlim=c(0,6),)"
   ]
  },
  {
   "cell_type": "code",
   "execution_count": 65,
   "metadata": {},
   "outputs": [],
   "source": [
    "muestra11 <-Valoresn$muestra11"
   ]
  },
  {
   "cell_type": "code",
   "execution_count": 66,
   "metadata": {},
   "outputs": [
    {
     "data": {
      "text/html": [
       "4"
      ],
      "text/latex": [
       "4"
      ],
      "text/markdown": [
       "4"
      ],
      "text/plain": [
       "[1] 4"
      ]
     },
     "metadata": {},
     "output_type": "display_data"
    }
   ],
   "source": [
    "median (muestra11, na.rm = T)"
   ]
  },
  {
   "cell_type": "code",
   "execution_count": 67,
   "metadata": {},
   "outputs": [],
   "source": [
    "acc11 <-Valoresn$muestra11"
   ]
  },
  {
   "cell_type": "code",
   "execution_count": 68,
   "metadata": {},
   "outputs": [
    {
     "data": {
      "text/plain": [
       "   Min. 1st Qu.  Median    Mean 3rd Qu.    Max.    NA's \n",
       "    0.0     2.0     4.0     3.0     4.5     5.0       4 "
      ]
     },
     "metadata": {},
     "output_type": "display_data"
    }
   ],
   "source": [
    "summary (acc11)"
   ]
  },
  {
   "cell_type": "code",
   "execution_count": 69,
   "metadata": {},
   "outputs": [
    {
     "data": {
      "image/png": "[encoded data removed]",
      "text/plain": [
       "Plot with title \"Gráfica de Barras\""
      ]
     },
     "metadata": {},
     "output_type": "display_data"
    }
   ],
   "source": [
    "options(repr.plot.width=5,repr.plot.height=5/1.61803)\n",
    "hist (muestra11, main=\"Gráfica de Barras\", col=\"orange\", border=\"blue\", labels= T, ylab=\"Frecuencia\", ylim=c(0,1.5), xlim=c(0,6),)"
   ]
  },
  {
   "cell_type": "code",
   "execution_count": 70,
   "metadata": {},
   "outputs": [],
   "source": [
    "muestra12 <-Valoresn$muestra12"
   ]
  },
  {
   "cell_type": "code",
   "execution_count": 71,
   "metadata": {},
   "outputs": [
    {
     "data": {
      "text/html": [
       "2"
      ],
      "text/latex": [
       "2"
      ],
      "text/markdown": [
       "2"
      ],
      "text/plain": [
       "[1] 2"
      ]
     },
     "metadata": {},
     "output_type": "display_data"
    }
   ],
   "source": [
    "median (muestra12, na.rm = T)"
   ]
  },
  {
   "cell_type": "code",
   "execution_count": 72,
   "metadata": {},
   "outputs": [],
   "source": [
    "acc12 <-Valoresn$muestra12"
   ]
  },
  {
   "cell_type": "code",
   "execution_count": 73,
   "metadata": {},
   "outputs": [
    {
     "data": {
      "text/plain": [
       "   Min. 1st Qu.  Median    Mean 3rd Qu.    Max.    NA's \n",
       "  0.000   1.000   2.000   2.333   3.500   5.000       4 "
      ]
     },
     "metadata": {},
     "output_type": "display_data"
    }
   ],
   "source": [
    "summary(acc12)"
   ]
  },
  {
   "cell_type": "code",
   "execution_count": 74,
   "metadata": {},
   "outputs": [
    {
     "data": {
      "image/png": "[encoded data removed]",
      "text/plain": [
       "Plot with title \"Gráfica de Barras\""
      ]
     },
     "metadata": {},
     "output_type": "display_data"
    }
   ],
   "source": [
    "options(repr.plot.width=5,repr.plot.height=5/1.61803)\n",
    "hist (muestra12, main=\"Gráfica de Barras\", col=\"green\", border=\"blue\", labels= T, ylab=\"Frecuencia\", ylim=c(0,2.0), xlim=c(0,6),)"
   ]
  },
  {
   "cell_type": "code",
   "execution_count": 75,
   "metadata": {},
   "outputs": [],
   "source": [
    "muestra13 <-Valoresn$muestra13"
   ]
  },
  {
   "cell_type": "code",
   "execution_count": 76,
   "metadata": {},
   "outputs": [
    {
     "data": {
      "text/html": [
       "1"
      ],
      "text/latex": [
       "1"
      ],
      "text/markdown": [
       "1"
      ],
      "text/plain": [
       "[1] 1"
      ]
     },
     "metadata": {},
     "output_type": "display_data"
    }
   ],
   "source": [
    "median (muestra13, na.rm = T)"
   ]
  },
  {
   "cell_type": "code",
   "execution_count": 77,
   "metadata": {},
   "outputs": [],
   "source": [
    "acc13 <-Valoresn$muestra13"
   ]
  },
  {
   "cell_type": "code",
   "execution_count": 78,
   "metadata": {},
   "outputs": [
    {
     "data": {
      "text/plain": [
       "   Min. 1st Qu.  Median    Mean 3rd Qu.    Max.    NA's \n",
       "    0.0     0.5     1.0     2.0     3.0     5.0       4 "
      ]
     },
     "metadata": {},
     "output_type": "display_data"
    }
   ],
   "source": [
    "summary(acc13)"
   ]
  },
  {
   "cell_type": "code",
   "execution_count": 79,
   "metadata": {},
   "outputs": [
    {
     "data": {
      "image/png": "[encoded data removed]",
      "text/plain": [
       "Plot with title \"Gráfica de Barras\""
      ]
     },
     "metadata": {},
     "output_type": "display_data"
    }
   ],
   "source": [
    "options(repr.plot.width=5,repr.plot.height=5/1.61803)\n",
    "hist (muestra13, main=\"Gráfica de Barras\", col=\"brown\", border=\"blue\", labels= T, ylab=\"Frecuencia\", ylim=c(0,2.0), xlim=c(0,6),)"
   ]
  },
  {
   "cell_type": "code",
   "execution_count": 80,
   "metadata": {},
   "outputs": [],
   "source": [
    "muestra14 <-Valoresn$muestra14"
   ]
  },
  {
   "cell_type": "code",
   "execution_count": 81,
   "metadata": {},
   "outputs": [
    {
     "data": {
      "text/html": [
       "3"
      ],
      "text/latex": [
       "3"
      ],
      "text/markdown": [
       "3"
      ],
      "text/plain": [
       "[1] 3"
      ]
     },
     "metadata": {},
     "output_type": "display_data"
    }
   ],
   "source": [
    "median (muestra14, na.rm = T)"
   ]
  },
  {
   "cell_type": "code",
   "execution_count": 82,
   "metadata": {},
   "outputs": [],
   "source": [
    "acc14 <-Valoresn$muestra14"
   ]
  },
  {
   "cell_type": "code",
   "execution_count": 83,
   "metadata": {},
   "outputs": [
    {
     "data": {
      "text/plain": [
       "   Min. 1st Qu.  Median    Mean 3rd Qu.    Max.    NA's \n",
       "  0.000   1.500   3.000   2.333   3.500   4.000       4 "
      ]
     },
     "metadata": {},
     "output_type": "display_data"
    }
   ],
   "source": [
    "summary(acc14)"
   ]
  },
  {
   "cell_type": "code",
   "execution_count": 84,
   "metadata": {},
   "outputs": [
    {
     "data": {
      "image/png": "[encoded data removed]",
      "text/plain": [
       "Plot with title \"Gráfica de Barras\""
      ]
     },
     "metadata": {},
     "output_type": "display_data"
    }
   ],
   "source": [
    "options(repr.plot.width=5,repr.plot.height=5/1.61803)\n",
    "hist (muestra14, main=\"Gráfica de Barras\", col=\"red\", border=\"blue\", labels= T, ylab=\"Frecuencia\", ylim=c(0,2.0), xlim=c(0,6),)"
   ]
  },
  {
   "cell_type": "code",
   "execution_count": 85,
   "metadata": {},
   "outputs": [],
   "source": [
    "muestra15 <-Valoresn$muestra15"
   ]
  },
  {
   "cell_type": "code",
   "execution_count": 86,
   "metadata": {},
   "outputs": [
    {
     "data": {
      "text/html": [
       "2"
      ],
      "text/latex": [
       "2"
      ],
      "text/markdown": [
       "2"
      ],
      "text/plain": [
       "[1] 2"
      ]
     },
     "metadata": {},
     "output_type": "display_data"
    }
   ],
   "source": [
    "median (muestra15, na.rm = T)"
   ]
  },
  {
   "cell_type": "code",
   "execution_count": 87,
   "metadata": {},
   "outputs": [],
   "source": [
    "acc15 <-Valoresn$muestra15"
   ]
  },
  {
   "cell_type": "code",
   "execution_count": 88,
   "metadata": {},
   "outputs": [
    {
     "data": {
      "text/plain": [
       "   Min. 1st Qu.  Median    Mean 3rd Qu.    Max.    NA's \n",
       "      0       1       2       2       3       4       4 "
      ]
     },
     "metadata": {},
     "output_type": "display_data"
    }
   ],
   "source": [
    "summary(acc15)"
   ]
  },
  {
   "cell_type": "code",
   "execution_count": 89,
   "metadata": {},
   "outputs": [
    {
     "data": {
      "image/png": "[encoded data removed]",
      "text/plain": [
       "Plot with title \"Gráfica de Barras\""
      ]
     },
     "metadata": {},
     "output_type": "display_data"
    }
   ],
   "source": [
    "options(repr.plot.width=5,repr.plot.height=5/1.61803)\n",
    "hist (muestra15, main=\"Gráfica de Barras\", col=\"black\", border=\"blue\", labels= T, ylab=\"Frecuencia\", ylim=c(0,2.0), xlim=c(0,6),)"
   ]
  },
  {
   "cell_type": "code",
   "execution_count": 90,
   "metadata": {},
   "outputs": [],
   "source": [
    "muestra16 <-Valoresn$muestra16"
   ]
  },
  {
   "cell_type": "code",
   "execution_count": 91,
   "metadata": {},
   "outputs": [
    {
     "data": {
      "text/html": [
       "1"
      ],
      "text/latex": [
       "1"
      ],
      "text/markdown": [
       "1"
      ],
      "text/plain": [
       "[1] 1"
      ]
     },
     "metadata": {},
     "output_type": "display_data"
    }
   ],
   "source": [
    "median (muestra16, na.rm = T)"
   ]
  },
  {
   "cell_type": "code",
   "execution_count": 92,
   "metadata": {},
   "outputs": [],
   "source": [
    "acc16 <-Valoresn$muestra16"
   ]
  },
  {
   "cell_type": "code",
   "execution_count": 93,
   "metadata": {},
   "outputs": [
    {
     "data": {
      "text/plain": [
       "   Min. 1st Qu.  Median    Mean 3rd Qu.    Max.    NA's \n",
       "    0.0     0.5     1.0     1.0     1.5     2.0       4 "
      ]
     },
     "metadata": {},
     "output_type": "display_data"
    }
   ],
   "source": [
    "summary(acc16)"
   ]
  },
  {
   "cell_type": "code",
   "execution_count": 94,
   "metadata": {},
   "outputs": [
    {
     "data": {
      "image/png": "[encoded data removed]",
      "text/plain": [
       "Plot with title \"Gráfica de Barras\""
      ]
     },
     "metadata": {},
     "output_type": "display_data"
    }
   ],
   "source": [
    "options(repr.plot.width=5,repr.plot.height=5/1.61803)\n",
    "hist (muestra16, main=\"Gráfica de Barras\", col=\"green\", border=\"blue\", labels= T, ylab=\"Frecuencia\", ylim=c(0,2.0), xlim=c(0,2),)"
   ]
  },
  {
   "cell_type": "code",
   "execution_count": 95,
   "metadata": {},
   "outputs": [],
   "source": [
    "muestra17 <-Valoresn$muestra17"
   ]
  },
  {
   "cell_type": "code",
   "execution_count": 96,
   "metadata": {},
   "outputs": [
    {
     "data": {
      "text/html": [
       "1"
      ],
      "text/latex": [
       "1"
      ],
      "text/markdown": [
       "1"
      ],
      "text/plain": [
       "[1] 1"
      ]
     },
     "metadata": {},
     "output_type": "display_data"
    }
   ],
   "source": [
    "median (muestra17, na.rm = T)"
   ]
  },
  {
   "cell_type": "code",
   "execution_count": 97,
   "metadata": {},
   "outputs": [],
   "source": [
    "acc17 <-Valoresn$muestra17"
   ]
  },
  {
   "cell_type": "code",
   "execution_count": 98,
   "metadata": {},
   "outputs": [
    {
     "data": {
      "text/plain": [
       "   Min. 1st Qu.  Median    Mean 3rd Qu.    Max.    NA's \n",
       "    0.0     0.5     1.0     2.0     3.0     5.0       4 "
      ]
     },
     "metadata": {},
     "output_type": "display_data"
    }
   ],
   "source": [
    "summary(acc17)"
   ]
  },
  {
   "cell_type": "code",
   "execution_count": 99,
   "metadata": {},
   "outputs": [
    {
     "data": {
      "image/png": "[encoded data removed]",
      "text/plain": [
       "Plot with title \"Gráfica de Barras\""
      ]
     },
     "metadata": {},
     "output_type": "display_data"
    }
   ],
   "source": [
    "options(repr.plot.width=5,repr.plot.height=5/1.61803)\n",
    "hist (muestra17, main=\"Gráfica de Barras\", col=\"orange\", border=\"blue\", labels= T, ylab=\"Frecuencia\", ylim=c(0,2.0), xlim=c(0,6),)"
   ]
  },
  {
   "cell_type": "code",
   "execution_count": 100,
   "metadata": {},
   "outputs": [],
   "source": [
    "muestra18 <-Valoresn$muestra18"
   ]
  },
  {
   "cell_type": "code",
   "execution_count": 101,
   "metadata": {},
   "outputs": [
    {
     "data": {
      "text/html": [
       "4"
      ],
      "text/latex": [
       "4"
      ],
      "text/markdown": [
       "4"
      ],
      "text/plain": [
       "[1] 4"
      ]
     },
     "metadata": {},
     "output_type": "display_data"
    }
   ],
   "source": [
    "median (muestra18, na.rm = T)"
   ]
  },
  {
   "cell_type": "code",
   "execution_count": 102,
   "metadata": {},
   "outputs": [],
   "source": [
    "acc18 <-Valoresn$muestra18"
   ]
  },
  {
   "cell_type": "code",
   "execution_count": 103,
   "metadata": {},
   "outputs": [
    {
     "data": {
      "text/plain": [
       "   Min. 1st Qu.  Median    Mean 3rd Qu.    Max.    NA's \n",
       "  2.000   3.000   4.000   3.667   4.500   5.000       4 "
      ]
     },
     "metadata": {},
     "output_type": "display_data"
    }
   ],
   "source": [
    "summary(acc18)"
   ]
  },
  {
   "cell_type": "code",
   "execution_count": 104,
   "metadata": {},
   "outputs": [
    {
     "data": {
      "image/png": "[encoded data removed]",
      "text/plain": [
       "Plot with title \"Gráfica de Barras\""
      ]
     },
     "metadata": {},
     "output_type": "display_data"
    }
   ],
   "source": [
    "options(repr.plot.width=5,repr.plot.height=5/1.61803)\n",
    "hist (muestra18, main=\"Gráfica de Barras\", col=\"red\", border=\"blue\", labels= T, ylab=\"Frecuencia\", ylim=c(0,1.5), xlim=c(2,5),)"
   ]
  },
  {
   "cell_type": "code",
   "execution_count": 105,
   "metadata": {},
   "outputs": [],
   "source": [
    "muestra19 <-Valoresn$muestra19"
   ]
  },
  {
   "cell_type": "code",
   "execution_count": 106,
   "metadata": {},
   "outputs": [
    {
     "data": {
      "text/html": [
       "3"
      ],
      "text/latex": [
       "3"
      ],
      "text/markdown": [
       "3"
      ],
      "text/plain": [
       "[1] 3"
      ]
     },
     "metadata": {},
     "output_type": "display_data"
    }
   ],
   "source": [
    "median (muestra19, na.rm = T)"
   ]
  },
  {
   "cell_type": "code",
   "execution_count": 107,
   "metadata": {},
   "outputs": [],
   "source": [
    "acc19 <-Valoresn$muestra19"
   ]
  },
  {
   "cell_type": "code",
   "execution_count": 108,
   "metadata": {},
   "outputs": [
    {
     "data": {
      "text/plain": [
       "   Min. 1st Qu.  Median    Mean 3rd Qu.    Max.    NA's \n",
       "      1       2       3       3       4       5       4 "
      ]
     },
     "metadata": {},
     "output_type": "display_data"
    }
   ],
   "source": [
    "summary(acc19)"
   ]
  },
  {
   "cell_type": "code",
   "execution_count": 109,
   "metadata": {},
   "outputs": [
    {
     "data": {
      "image/png": "[encoded data removed]",
      "text/plain": [
       "Plot with title \"Gráfica de Barras\""
      ]
     },
     "metadata": {},
     "output_type": "display_data"
    }
   ],
   "source": [
    "options(repr.plot.width=5,repr.plot.height=5/1.61803)\n",
    "hist (muestra19, main=\"Gráfica de Barras\", col=\"yellow\", border=\"blue\", labels= T, ylab=\"Frecuencia\", ylim=c(0,1.5), xlim=c(1,5),)"
   ]
  },
  {
   "cell_type": "code",
   "execution_count": 110,
   "metadata": {},
   "outputs": [],
   "source": [
    "muestra20 <-Valoresn$muestra20"
   ]
  },
  {
   "cell_type": "code",
   "execution_count": 111,
   "metadata": {},
   "outputs": [
    {
     "data": {
      "text/html": [
       "2"
      ],
      "text/latex": [
       "2"
      ],
      "text/markdown": [
       "2"
      ],
      "text/plain": [
       "[1] 2"
      ]
     },
     "metadata": {},
     "output_type": "display_data"
    }
   ],
   "source": [
    "median (muestra20, na.rm = T)"
   ]
  },
  {
   "cell_type": "code",
   "execution_count": 112,
   "metadata": {},
   "outputs": [],
   "source": [
    "acc20 <-Valoresn$muestra20"
   ]
  },
  {
   "cell_type": "code",
   "execution_count": 113,
   "metadata": {},
   "outputs": [
    {
     "data": {
      "text/plain": [
       "   Min. 1st Qu.  Median    Mean 3rd Qu.    Max.    NA's \n",
       "  1.000   1.500   2.000   2.667   3.500   5.000       4 "
      ]
     },
     "metadata": {},
     "output_type": "display_data"
    }
   ],
   "source": [
    "summary(acc20)"
   ]
  },
  {
   "cell_type": "markdown",
   "metadata": {},
   "source": [
    "Observando se obtiene 20 distintas combinaciones posibles de tres "
   ]
  },
  {
   "cell_type": "markdown",
   "metadata": {},
   "source": [
    "El error estandar de la media de la población tiene una relación estrecha con con las  muestrales."
   ]
  },
  {
   "cell_type": "markdown",
   "metadata": {},
   "source": [
    "FIN"
   ]
  }
 ],
 "metadata": {
  "kernelspec": {
   "display_name": "R",
   "language": "R",
   "name": "ir"
  },
  "language_info": {
   "codemirror_mode": "r",
   "file_extension": ".r",
   "mimetype": "text/x-r-source",
   "name": "R",
   "pygments_lexer": "r",
   "version": "3.6.1"
  }
 },
 "nbformat": 4,
 "nbformat_minor": 2
}
