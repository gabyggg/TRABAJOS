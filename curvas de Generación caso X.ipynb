{
 "cells": [
  {
   "cell_type": "code",
   "execution_count": 1,
   "metadata": {},
   "outputs": [],
   "source": [
    "Valores <- read.csv (\"curvas.csv\")"
   ]
  },
  {
   "cell_type": "code",
   "execution_count": 2,
   "metadata": {},
   "outputs": [
    {
     "data": {
      "text/html": [
       "<table>\n",
       "<thead><tr><th scope=col>Fecha</th><th scope=col>PROD..kWh.</th></tr></thead>\n",
       "<tbody>\n",
       "\t<tr><td>01-01-02</td><td>309.228 </td></tr>\n",
       "\t<tr><td>02-01-02</td><td>309.228 </td></tr>\n",
       "\t<tr><td>03-01-02</td><td>308.788 </td></tr>\n",
       "\t<tr><td>04-01-02</td><td>308.437 </td></tr>\n",
       "\t<tr><td>05-01-02</td><td>307.909 </td></tr>\n",
       "\t<tr><td>06-01-02</td><td>307.646 </td></tr>\n",
       "</tbody>\n",
       "</table>\n"
      ],
      "text/latex": [
       "\\begin{tabular}{r|ll}\n",
       " Fecha & PROD..kWh.\\\\\n",
       "\\hline\n",
       "\t 01-01-02 & 309.228 \\\\\n",
       "\t 02-01-02 & 309.228 \\\\\n",
       "\t 03-01-02 & 308.788 \\\\\n",
       "\t 04-01-02 & 308.437 \\\\\n",
       "\t 05-01-02 & 307.909 \\\\\n",
       "\t 06-01-02 & 307.646 \\\\\n",
       "\\end{tabular}\n"
      ],
      "text/markdown": [
       "\n",
       "| Fecha | PROD..kWh. |\n",
       "|---|---|\n",
       "| 01-01-02 | 309.228  |\n",
       "| 02-01-02 | 309.228  |\n",
       "| 03-01-02 | 308.788  |\n",
       "| 04-01-02 | 308.437  |\n",
       "| 05-01-02 | 307.909  |\n",
       "| 06-01-02 | 307.646  |\n",
       "\n"
      ],
      "text/plain": [
       "  Fecha    PROD..kWh.\n",
       "1 01-01-02 309.228   \n",
       "2 02-01-02 309.228   \n",
       "3 03-01-02 308.788   \n",
       "4 04-01-02 308.437   \n",
       "5 05-01-02 307.909   \n",
       "6 06-01-02 307.646   "
      ]
     },
     "metadata": {},
     "output_type": "display_data"
    }
   ],
   "source": [
    "head(Valores)"
   ]
  },
  {
   "cell_type": "code",
   "execution_count": 5,
   "metadata": {},
   "outputs": [],
   "source": [
    "Mw <- Valores$PROD..kWh."
   ]
  },
  {
   "cell_type": "code",
   "execution_count": 6,
   "metadata": {},
   "outputs": [
    {
     "data": {
      "text/plain": [
       "   Min. 1st Qu.  Median    Mean 3rd Qu.    Max.    NA's \n",
       "    0.0     0.0   253.6   191.8   324.8   399.5      91 "
      ]
     },
     "metadata": {},
     "output_type": "display_data"
    }
   ],
   "source": [
    "summary (Mw)"
   ]
  },
  {
   "cell_type": "code",
   "execution_count": 7,
   "metadata": {},
   "outputs": [
    {
     "data": {
      "text/html": [
       "253.569"
      ],
      "text/latex": [
       "253.569"
      ],
      "text/markdown": [
       "253.569"
      ],
      "text/plain": [
       "[1] 253.569"
      ]
     },
     "metadata": {},
     "output_type": "display_data"
    }
   ],
   "source": [
    "median (Mw, na.rm = T)"
   ]
  },
  {
   "cell_type": "code",
   "execution_count": 8,
   "metadata": {},
   "outputs": [
    {
     "data": {
      "text/html": [
       "399.514"
      ],
      "text/latex": [
       "399.514"
      ],
      "text/markdown": [
       "399.514"
      ],
      "text/plain": [
       "[1] 399.514"
      ]
     },
     "metadata": {},
     "output_type": "display_data"
    }
   ],
   "source": [
    "max (Mw, na.rm = T)"
   ]
  },
  {
   "cell_type": "code",
   "execution_count": 9,
   "metadata": {},
   "outputs": [
    {
     "data": {
      "text/html": [
       "0"
      ],
      "text/latex": [
       "0"
      ],
      "text/markdown": [
       "0"
      ],
      "text/plain": [
       "[1] 0"
      ]
     },
     "metadata": {},
     "output_type": "display_data"
    }
   ],
   "source": [
    "min (Mw, na.rm= T)"
   ]
  },
  {
   "cell_type": "code",
   "execution_count": 10,
   "metadata": {},
   "outputs": [],
   "source": [
    "Fecha <- Valores$Fecha"
   ]
  },
  {
   "cell_type": "code",
   "execution_count": 11,
   "metadata": {},
   "outputs": [
    {
     "data": {
      "image/png": "[encoded data removed]",
      "text/plain": [
       "Plot with title \"Distribución de Generación\""
      ]
     },
     "metadata": {},
     "output_type": "display_data"
    }
   ],
   "source": [
    "options(repr.plot.width=15,repr.plot.height=15/1.61803)\n",
    "hist (Mw, main=\"Distribución de Generación\", col=\"red\", border=\"blue\", labels= T, ylab=\"Días\",)"
   ]
  },
  {
   "cell_type": "code",
   "execution_count": null,
   "metadata": {},
   "outputs": [],
   "source": [
    "Fecha <- Valores$Fecha"
   ]
  },
  {
   "cell_type": "markdown",
   "metadata": {},
   "source": [
    "## Número de Días Totales 5,468 menos 91 días con cero generación."
   ]
  },
  {
   "cell_type": "code",
   "execution_count": null,
   "metadata": {},
   "outputs": [],
   "source": [
    "summary (Fecha)"
   ]
  }
 ],
 "metadata": {
  "kernelspec": {
   "display_name": "R",
   "language": "R",
   "name": "ir"
  },
  "language_info": {
   "codemirror_mode": "r",
   "file_extension": ".r",
   "mimetype": "text/x-r-source",
   "name": "R",
   "pygments_lexer": "r",
   "version": "3.6.1"
  }
 },
 "nbformat": 4,
 "nbformat_minor": 2
}
